{
 "cells": [
  {
   "cell_type": "code",
   "execution_count": 1,
   "metadata": {},
   "outputs": [
    {
     "name": "stderr",
     "output_type": "stream",
     "text": [
      "C:\\Users\\Pejvak\\AppData\\Local\\Temp\\ipykernel_9984\\3924960644.py:19: ComplexWarning: Casting complex values to real discards the imaginary part\n",
      "  chirps_train_set[i]=new_signal\n"
     ]
    }
   ],
   "source": [
    "import numpy as np\n",
    "import math\n",
    "def new_chirp(t,T_c,f_m,B):\n",
    "  i=1j\n",
    "  signal = np.exp(i*2*math.pi*(1/2*B/T_c*np.power(t,2)+(f_m-B/2)*t))\n",
    "  return signal\n",
    "T_c = 15.2*10**(-6)\n",
    "f_s=2*10**9\n",
    "t = np.linspace(0, T_c, int(T_c * f_s), endpoint=False)\n",
    "signal=np.zeros(0)\n",
    "chirps_train_set=np.zeros((8000,30399))\n",
    "chirps_train_label=np.zeros((8000,8192))\n",
    "for i in range(8000):\n",
    "  m=np.random.randint(64)\n",
    "  l=np.random.randint(128)\n",
    "  f_m=-100*10**6+200*10**6*m/64\n",
    "  B=400*10**6+400*10**6*l/128\n",
    "  new_signal=new_chirp(t,T_c,f_m,B)\n",
    "  chirps_train_set[i]=new_signal\n",
    "  chirps_train_label[i][128*m+l]=1"
   ]
  },
  {
   "cell_type": "code",
   "execution_count": 2,
   "metadata": {},
   "outputs": [
    {
     "name": "stderr",
     "output_type": "stream",
     "text": [
      "C:\\Users\\Pejvak\\AppData\\Local\\Temp\\ipykernel_9984\\260888909.py:9: ComplexWarning: Casting complex values to real discards the imaginary part\n",
      "  chirps_test_set[i]=new_signal\n"
     ]
    }
   ],
   "source": [
    "chirps_test_set=np.zeros((2000,30399))\n",
    "chirps_test_label=np.zeros((2000,8192))\n",
    "for i in range(2000):\n",
    "  m=np.random.randint(64)\n",
    "  l=np.random.randint(128)\n",
    "  f_m=-100*10**6+200*10**6*m/64\n",
    "  B=400*10**6+400*10**6*l/128\n",
    "  new_signal=new_chirp(t,T_c,f_m,B)\n",
    "  chirps_test_set[i]=new_signal\n",
    "  chirps_test_label[i][128*m+l]=1"
   ]
  }
 ],
 "metadata": {
  "kernelspec": {
   "display_name": "Python 3",
   "language": "python",
   "name": "python3"
  },
  "language_info": {
   "codemirror_mode": {
    "name": "ipython",
    "version": 3
   },
   "file_extension": ".py",
   "mimetype": "text/x-python",
   "name": "python",
   "nbconvert_exporter": "python",
   "pygments_lexer": "ipython3",
   "version": "3.10.0"
  }
 },
 "nbformat": 4,
 "nbformat_minor": 2
}
