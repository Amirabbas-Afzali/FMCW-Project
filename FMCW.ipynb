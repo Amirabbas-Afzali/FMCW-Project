{
  "cells": [
    {
      "cell_type": "markdown",
      "source": [
        "Defining the chirp and snr functions."
      ],
      "metadata": {
        "id": "3u_QP9aUxoHE"
      }
    },
    {
      "cell_type": "code",
      "source": [
        "def my_snr(signal,noisy_signal):\n",
        "  noise=noisy_signal-signal\n",
        "  signal_power=cp.mean(cp.power(cp.abs(signal),2))\n",
        "  noise_power=cp.mean(cp.power(cp.abs(noise),2))\n",
        "  snr=10*cp.log10(cp.abs(signal_power/noise_power))\n",
        "  return snr\n",
        "def my_chirp(t,T_c,f_s,f_m,B):\n",
        "  i=1j\n",
        "  signal = cp.exp(i*2*math.pi*(1/2*B/T_c*cp.power(t,2)+(f_m-B/2)*t))\n",
        "  return signal"
      ],
      "metadata": {
        "id": "6P2XUlnYxf8J"
      },
      "execution_count": 4,
      "outputs": []
    },
    {
      "cell_type": "markdown",
      "source": [
        "Making the sequence of chirps."
      ],
      "metadata": {
        "id": "E-tFuA-VyFfB"
      }
    },
    {
      "cell_type": "code",
      "source": [
        "import numpy as np\n",
        "import cupy as cp\n",
        "import matplotlib.pyplot as plt\n",
        "import cmath,math\n",
        "T_c = 15.2*10**(-6)\n",
        "f_s=2*10**9\n",
        "t = cp.linspace(0, T_c, int(T_c * f_s), endpoint=False)\n",
        "signal=cp.zeros(0)\n",
        "my_m=[]\n",
        "my_l=[]\n",
        "for i in range(256):\n",
        "  m=cp.random.randint(64)\n",
        "  l=cp.random.randint(128)\n",
        "  my_m.append(m)\n",
        "  my_l.append(l)\n",
        "  f_m=-100*10**6+200*10**6*m/64\n",
        "  B=400*10**6+400*10**6*l/128\n",
        "  my_signal=my_chirp(t,T_c,f_s,f_m,B)\n",
        "  signal=cp.concatenate((signal,my_signal),axis=0)\n",
        "  signal=cp.concatenate((signal,cp.zeros(int(10**(-7)*f_s))),axis=0)"
      ],
      "metadata": {
        "id": "JLVGfFL5wOee"
      },
      "execution_count": null,
      "outputs": []
    },
    {
      "cell_type": "markdown",
      "source": [
        "Making all possible chirps signals."
      ],
      "metadata": {
        "id": "k8jT38gCye6z"
      }
    },
    {
      "cell_type": "code",
      "source": [
        "chirps=cp.zeros(shape=(128,64,int(T_c * f_s)))\n",
        "for j in range(128):\n",
        "    for k in range(64):\n",
        "      f_m_chirp=-100*10**6+200*10**6*k/64\n",
        "      B_chirp=400*10**6+400*10**6*j/128\n",
        "      new_chirp=my_chirp(t,T_c,f_s,f_m_chirp,B_chirp)\n",
        "      chirps[j][k]=new_chirp"
      ],
      "metadata": {
        "colab": {
          "base_uri": "https://localhost:8080/"
        },
        "id": "85Z-w-WWykl1",
        "outputId": "ed3b671b-e6aa-40ba-82a1-06eb1e72581a"
      },
      "execution_count": null,
      "outputs": [
        {
          "output_type": "stream",
          "name": "stderr",
          "text": [
            "<ipython-input-5-0160b51a398d>:7: ComplexWarning: Casting complex values to real discards the imaginary part\n",
            "  chirps[j][k]=new_chirp\n"
          ]
        }
      ]
    },
    {
      "cell_type": "markdown",
      "source": [
        "Adding 0 dB noise."
      ],
      "metadata": {
        "id": "pK9IVSUYyQ5m"
      }
    },
    {
      "cell_type": "code",
      "execution_count": null,
      "metadata": {
        "colab": {
          "base_uri": "https://localhost:8080/"
        },
        "id": "CxN0gjURc5sI",
        "outputId": "8176b907-7698-4d9e-d09d-98e141f5cb1e"
      },
      "outputs": [
        {
          "output_type": "stream",
          "name": "stdout",
          "text": [
            "The SNR :  0.058257441270493725\n"
          ]
        }
      ],
      "source": [
        "#noise 0 db : sigma=0.7\n",
        "#noise 10 db : sigma=0.22\n",
        "#noise 20 db : sigma=0.07\n",
        "i=1j\n",
        "sigma=0.7\n",
        "noise_real=cp.random.normal(0,sigma,np.shape(signal)[0])\n",
        "noise_image=cp.random.normal(0,sigma,np.shape(signal)[0])\n",
        "noise=noise_real+i*noise_image\n",
        "noisy_signal=signal+noise\n",
        "print(\"The SNR : \",my_snr(signal,noisy_signal))"
      ]
    },
    {
      "cell_type": "markdown",
      "source": [
        "Processing the sequence of chirps without STFT method."
      ],
      "metadata": {
        "id": "bodBDqZnyyzL"
      }
    },
    {
      "cell_type": "code",
      "execution_count": null,
      "metadata": {
        "colab": {
          "base_uri": "https://localhost:8080/"
        },
        "id": "yEHwu8EyYDIL",
        "outputId": "79fa806f-a40e-4e24-a001-ff476d874daa"
      },
      "outputs": [
        {
          "output_type": "stream",
          "name": "stdout",
          "text": [
            "Chirp number :  0\n",
            "Chirp number :  1\n",
            "Chirp number :  2\n",
            "Chirp number :  3\n",
            "Chirp number :  4\n",
            "Chirp number :  5\n",
            "Chirp number :  6\n",
            "Chirp number :  7\n",
            "Chirp number :  8\n",
            "Chirp number :  9\n",
            "Chirp number :  10\n",
            "Chirp number :  11\n",
            "Chirp number :  12\n",
            "Chirp number :  13\n",
            "Chirp number :  14\n",
            "Chirp number :  15\n",
            "Chirp number :  16\n",
            "Chirp number :  17\n",
            "Chirp number :  18\n",
            "Chirp number :  19\n",
            "Chirp number :  20\n",
            "Chirp number :  21\n",
            "Chirp number :  22\n",
            "Chirp number :  23\n",
            "Chirp number :  24\n",
            "Chirp number :  25\n",
            "Chirp number :  26\n",
            "Chirp number :  27\n",
            "Chirp number :  28\n",
            "Chirp number :  29\n",
            "Chirp number :  30\n",
            "Chirp number :  31\n",
            "Chirp number :  32\n",
            "Chirp number :  33\n",
            "Chirp number :  34\n",
            "Chirp number :  35\n",
            "Chirp number :  36\n",
            "Chirp number :  37\n",
            "Chirp number :  38\n",
            "Chirp number :  39\n",
            "Chirp number :  40\n",
            "Chirp number :  41\n",
            "Chirp number :  42\n",
            "Chirp number :  43\n",
            "Chirp number :  44\n",
            "Chirp number :  45\n",
            "Chirp number :  46\n",
            "Chirp number :  47\n",
            "Chirp number :  48\n",
            "Chirp number :  49\n",
            "Chirp number :  50\n",
            "Chirp number :  51\n",
            "Chirp number :  52\n",
            "Chirp number :  53\n",
            "Chirp number :  54\n",
            "Chirp number :  55\n",
            "Chirp number :  56\n",
            "Chirp number :  57\n",
            "Chirp number :  58\n",
            "Chirp number :  59\n",
            "Chirp number :  60\n",
            "Chirp number :  61\n",
            "Chirp number :  62\n",
            "Chirp number :  63\n",
            "Chirp number :  64\n",
            "Chirp number :  65\n",
            "Chirp number :  66\n",
            "Chirp number :  67\n",
            "Chirp number :  68\n",
            "Chirp number :  69\n",
            "Chirp number :  70\n",
            "Chirp number :  71\n",
            "Chirp number :  72\n",
            "Chirp number :  73\n",
            "Chirp number :  74\n",
            "Chirp number :  75\n",
            "Chirp number :  76\n",
            "Chirp number :  77\n",
            "Chirp number :  78\n",
            "Chirp number :  79\n",
            "Chirp number :  80\n",
            "Chirp number :  81\n",
            "Chirp number :  82\n",
            "Chirp number :  83\n",
            "Chirp number :  84\n",
            "Chirp number :  85\n",
            "Chirp number :  86\n",
            "Chirp number :  87\n",
            "Chirp number :  88\n",
            "Chirp number :  89\n",
            "Chirp number :  90\n",
            "Chirp number :  91\n",
            "Chirp number :  92\n",
            "Chirp number :  93\n",
            "Chirp number :  94\n",
            "Chirp number :  95\n",
            "Chirp number :  96\n",
            "Chirp number :  97\n",
            "Chirp number :  98\n",
            "Chirp number :  99\n",
            "Chirp number :  100\n",
            "Chirp number :  101\n",
            "Chirp number :  102\n",
            "Chirp number :  103\n",
            "Chirp number :  104\n",
            "Chirp number :  105\n",
            "Chirp number :  106\n",
            "Chirp number :  107\n",
            "Chirp number :  108\n",
            "Chirp number :  109\n",
            "Chirp number :  110\n",
            "Chirp number :  111\n",
            "Chirp number :  112\n",
            "Chirp number :  113\n",
            "Chirp number :  114\n",
            "Chirp number :  115\n",
            "Chirp number :  116\n",
            "Chirp number :  117\n",
            "Chirp number :  118\n",
            "Chirp number :  119\n",
            "Chirp number :  120\n",
            "Chirp number :  121\n",
            "Chirp number :  122\n",
            "Chirp number :  123\n",
            "Chirp number :  124\n",
            "Chirp number :  125\n",
            "Chirp number :  126\n",
            "Chirp number :  127\n",
            "Chirp number :  128\n",
            "Chirp number :  129\n",
            "Chirp number :  130\n",
            "Chirp number :  131\n",
            "Chirp number :  132\n",
            "Chirp number :  133\n",
            "Chirp number :  134\n",
            "Chirp number :  135\n",
            "Chirp number :  136\n",
            "Chirp number :  137\n",
            "Chirp number :  138\n",
            "Chirp number :  139\n",
            "Chirp number :  140\n",
            "Chirp number :  141\n",
            "Chirp number :  142\n",
            "Chirp number :  143\n",
            "Chirp number :  144\n",
            "Chirp number :  145\n",
            "Chirp number :  146\n",
            "Chirp number :  147\n",
            "Chirp number :  148\n",
            "Chirp number :  149\n",
            "Chirp number :  150\n",
            "Chirp number :  151\n",
            "Chirp number :  152\n",
            "Chirp number :  153\n",
            "Chirp number :  154\n",
            "Chirp number :  155\n",
            "Chirp number :  156\n",
            "Chirp number :  157\n",
            "Chirp number :  158\n",
            "Chirp number :  159\n",
            "Chirp number :  160\n",
            "Chirp number :  161\n",
            "Chirp number :  162\n",
            "Chirp number :  163\n",
            "Chirp number :  164\n",
            "Chirp number :  165\n",
            "Chirp number :  166\n",
            "Chirp number :  167\n",
            "Chirp number :  168\n",
            "Chirp number :  169\n",
            "Chirp number :  170\n",
            "Chirp number :  171\n",
            "Chirp number :  172\n",
            "Chirp number :  173\n",
            "Chirp number :  174\n",
            "Chirp number :  175\n",
            "Chirp number :  176\n",
            "Chirp number :  177\n",
            "Chirp number :  178\n",
            "Chirp number :  179\n",
            "Chirp number :  180\n",
            "Chirp number :  181\n",
            "Chirp number :  182\n",
            "Chirp number :  183\n",
            "Chirp number :  184\n",
            "Chirp number :  185\n",
            "Chirp number :  186\n",
            "Chirp number :  187\n",
            "Chirp number :  188\n",
            "Chirp number :  189\n",
            "Chirp number :  190\n",
            "Chirp number :  191\n",
            "Chirp number :  192\n",
            "Chirp number :  193\n",
            "Chirp number :  194\n",
            "Chirp number :  195\n",
            "Chirp number :  196\n",
            "Chirp number :  197\n",
            "Chirp number :  198\n",
            "Chirp number :  199\n",
            "Chirp number :  200\n",
            "Chirp number :  201\n",
            "Chirp number :  202\n",
            "Chirp number :  203\n",
            "Chirp number :  204\n",
            "Chirp number :  205\n",
            "Chirp number :  206\n",
            "Chirp number :  207\n",
            "Chirp number :  208\n",
            "Chirp number :  209\n",
            "Chirp number :  210\n",
            "Chirp number :  211\n",
            "Chirp number :  212\n",
            "Chirp number :  213\n",
            "Chirp number :  214\n",
            "Chirp number :  215\n",
            "Chirp number :  216\n",
            "Chirp number :  217\n",
            "Chirp number :  218\n",
            "Chirp number :  219\n",
            "Chirp number :  220\n",
            "Chirp number :  221\n",
            "Chirp number :  222\n",
            "Chirp number :  223\n",
            "Chirp number :  224\n",
            "Chirp number :  225\n",
            "Chirp number :  226\n",
            "Chirp number :  227\n",
            "Chirp number :  228\n",
            "Chirp number :  229\n",
            "Chirp number :  230\n",
            "Chirp number :  231\n",
            "Chirp number :  232\n",
            "Chirp number :  233\n",
            "Chirp number :  234\n",
            "Chirp number :  235\n",
            "Chirp number :  236\n",
            "Chirp number :  237\n",
            "Chirp number :  238\n",
            "Chirp number :  239\n",
            "Chirp number :  240\n",
            "Chirp number :  241\n",
            "Chirp number :  242\n",
            "Chirp number :  243\n",
            "Chirp number :  244\n",
            "Chirp number :  245\n",
            "Chirp number :  246\n",
            "Chirp number :  247\n",
            "Chirp number :  248\n",
            "Chirp number :  249\n",
            "Chirp number :  250\n",
            "Chirp number :  251\n",
            "Chirp number :  252\n",
            "Chirp number :  253\n",
            "Chirp number :  254\n",
            "Chirp number :  255\n"
          ]
        }
      ],
      "source": [
        "detected_signal_l=[]\n",
        "detected_signal_m=[]\n",
        "for i in range(256):\n",
        "  minimum_distance=1000\n",
        "  detected_l=0\n",
        "  detected_m=0\n",
        "  detected_signal=noisy_signal[i*(int(T_c * f_s)+int(10**(-7)*f_s)):i*(int(T_c * f_s)+int(10**(-7)*f_s))+int(T_c * f_s)]\n",
        "  for j in range(128):\n",
        "    for k in range(64):\n",
        "      compared_chirp=chirps[j][k]\n",
        "      distance=cp.mean(cp.abs(cp.power(cp.abs(detected_signal-compared_chirp),2)))\n",
        "      if(distance<minimum_distance):\n",
        "        minimum_distance=distance\n",
        "        detected_l=j\n",
        "        detected_m=k\n",
        "  detected_signal_l.append(detected_l)\n",
        "  detected_signal_m.append(detected_m)\n",
        "  print(\"Chirp number : \",i)\n",
        "\n"
      ]
    },
    {
      "cell_type": "markdown",
      "source": [
        "Number of chirps that has been correctly detected."
      ],
      "metadata": {
        "id": "-PyXL7cczFh4"
      }
    },
    {
      "cell_type": "code",
      "execution_count": null,
      "metadata": {
        "colab": {
          "base_uri": "https://localhost:8080/"
        },
        "id": "JmJ7aB6mn6VE",
        "outputId": "810aca93-47b0-4ffb-f74e-36085e2d0588"
      },
      "outputs": [
        {
          "output_type": "stream",
          "name": "stdout",
          "text": [
            "Number of chirps that has been detected correctly :  256\n"
          ]
        }
      ],
      "source": [
        "correct_chirps=0\n",
        "for i in range(256):\n",
        "  if(my_m[i]==detected_signal_m[i] and my_l[i]==detected_signal_l[i]):\n",
        "    correct_chirps=correct_chirps+1\n",
        "print(\"Number of chirps that has been detected correctly : \",correct_chirps)"
      ]
    },
    {
      "cell_type": "markdown",
      "source": [
        "Adding 10 dB noise."
      ],
      "metadata": {
        "id": "0joMPvqS1DSO"
      }
    },
    {
      "cell_type": "code",
      "source": [
        "i=1j\n",
        "sigma=0.22\n",
        "noise_real=cp.random.normal(0,sigma,np.shape(signal)[0])\n",
        "noise_image=cp.random.normal(0,sigma,np.shape(signal)[0])\n",
        "noise=noise_real+i*noise_image\n",
        "noisy_signal=signal+noise\n",
        "print(\"The SNR : \",my_snr(signal,noisy_signal))"
      ],
      "metadata": {
        "colab": {
          "base_uri": "https://localhost:8080/"
        },
        "id": "krgbdzRV1I1k",
        "outputId": "984214c2-08ff-4d75-a9f1-10713d878a7c"
      },
      "execution_count": null,
      "outputs": [
        {
          "output_type": "stream",
          "name": "stdout",
          "text": [
            "The SNR :  10.113282366219112\n"
          ]
        }
      ]
    },
    {
      "cell_type": "markdown",
      "source": [
        "Processing the sequence of chirps without STFT method."
      ],
      "metadata": {
        "id": "_-eNIDmq1g9H"
      }
    },
    {
      "cell_type": "code",
      "source": [
        "detected_signal_l=[]\n",
        "detected_signal_m=[]\n",
        "for i in range(256):\n",
        "  minimum_distance=1000\n",
        "  detected_l=0\n",
        "  detected_m=0\n",
        "  detected_signal=noisy_signal[i*(int(T_c * f_s)+int(10**(-7)*f_s)):i*(int(T_c * f_s)+int(10**(-7)*f_s))+int(T_c * f_s)]\n",
        "  for j in range(128):\n",
        "    for k in range(64):\n",
        "      compared_chirp=chirps[j][k]\n",
        "      distance=cp.mean(cp.abs(cp.power(cp.abs(detected_signal-compared_chirp),2)))\n",
        "      if(distance<minimum_distance):\n",
        "        minimum_distance=distance\n",
        "        detected_l=j\n",
        "        detected_m=k\n",
        "  detected_signal_l.append(detected_l)\n",
        "  detected_signal_m.append(detected_m)\n",
        "  print(\"Chirp number : \",i)"
      ],
      "metadata": {
        "colab": {
          "base_uri": "https://localhost:8080/"
        },
        "id": "4vwjCiTL1h6k",
        "outputId": "11086dc0-9471-4167-f377-c036c080d3db"
      },
      "execution_count": null,
      "outputs": [
        {
          "output_type": "stream",
          "name": "stdout",
          "text": [
            "Chirp number :  0\n",
            "Chirp number :  1\n",
            "Chirp number :  2\n",
            "Chirp number :  3\n",
            "Chirp number :  4\n",
            "Chirp number :  5\n",
            "Chirp number :  6\n",
            "Chirp number :  7\n",
            "Chirp number :  8\n",
            "Chirp number :  9\n",
            "Chirp number :  10\n",
            "Chirp number :  11\n",
            "Chirp number :  12\n",
            "Chirp number :  13\n",
            "Chirp number :  14\n",
            "Chirp number :  15\n",
            "Chirp number :  16\n",
            "Chirp number :  17\n",
            "Chirp number :  18\n",
            "Chirp number :  19\n",
            "Chirp number :  20\n",
            "Chirp number :  21\n",
            "Chirp number :  22\n",
            "Chirp number :  23\n",
            "Chirp number :  24\n",
            "Chirp number :  25\n",
            "Chirp number :  26\n",
            "Chirp number :  27\n",
            "Chirp number :  28\n",
            "Chirp number :  29\n",
            "Chirp number :  30\n",
            "Chirp number :  31\n",
            "Chirp number :  32\n",
            "Chirp number :  33\n",
            "Chirp number :  34\n",
            "Chirp number :  35\n",
            "Chirp number :  36\n",
            "Chirp number :  37\n",
            "Chirp number :  38\n",
            "Chirp number :  39\n",
            "Chirp number :  40\n",
            "Chirp number :  41\n",
            "Chirp number :  42\n",
            "Chirp number :  43\n",
            "Chirp number :  44\n",
            "Chirp number :  45\n",
            "Chirp number :  46\n",
            "Chirp number :  47\n",
            "Chirp number :  48\n",
            "Chirp number :  49\n",
            "Chirp number :  50\n",
            "Chirp number :  51\n",
            "Chirp number :  52\n",
            "Chirp number :  53\n",
            "Chirp number :  54\n",
            "Chirp number :  55\n",
            "Chirp number :  56\n",
            "Chirp number :  57\n",
            "Chirp number :  58\n",
            "Chirp number :  59\n",
            "Chirp number :  60\n",
            "Chirp number :  61\n",
            "Chirp number :  62\n",
            "Chirp number :  63\n",
            "Chirp number :  64\n",
            "Chirp number :  65\n",
            "Chirp number :  66\n",
            "Chirp number :  67\n",
            "Chirp number :  68\n",
            "Chirp number :  69\n",
            "Chirp number :  70\n",
            "Chirp number :  71\n",
            "Chirp number :  72\n",
            "Chirp number :  73\n",
            "Chirp number :  74\n",
            "Chirp number :  75\n",
            "Chirp number :  76\n",
            "Chirp number :  77\n",
            "Chirp number :  78\n",
            "Chirp number :  79\n",
            "Chirp number :  80\n",
            "Chirp number :  81\n",
            "Chirp number :  82\n",
            "Chirp number :  83\n",
            "Chirp number :  84\n",
            "Chirp number :  85\n",
            "Chirp number :  86\n",
            "Chirp number :  87\n",
            "Chirp number :  88\n",
            "Chirp number :  89\n",
            "Chirp number :  90\n",
            "Chirp number :  91\n",
            "Chirp number :  92\n",
            "Chirp number :  93\n",
            "Chirp number :  94\n",
            "Chirp number :  95\n",
            "Chirp number :  96\n",
            "Chirp number :  97\n",
            "Chirp number :  98\n",
            "Chirp number :  99\n",
            "Chirp number :  100\n",
            "Chirp number :  101\n",
            "Chirp number :  102\n",
            "Chirp number :  103\n",
            "Chirp number :  104\n",
            "Chirp number :  105\n",
            "Chirp number :  106\n",
            "Chirp number :  107\n",
            "Chirp number :  108\n",
            "Chirp number :  109\n",
            "Chirp number :  110\n",
            "Chirp number :  111\n",
            "Chirp number :  112\n",
            "Chirp number :  113\n",
            "Chirp number :  114\n",
            "Chirp number :  115\n",
            "Chirp number :  116\n",
            "Chirp number :  117\n",
            "Chirp number :  118\n",
            "Chirp number :  119\n",
            "Chirp number :  120\n",
            "Chirp number :  121\n",
            "Chirp number :  122\n",
            "Chirp number :  123\n",
            "Chirp number :  124\n",
            "Chirp number :  125\n",
            "Chirp number :  126\n",
            "Chirp number :  127\n",
            "Chirp number :  128\n",
            "Chirp number :  129\n",
            "Chirp number :  130\n",
            "Chirp number :  131\n",
            "Chirp number :  132\n",
            "Chirp number :  133\n",
            "Chirp number :  134\n",
            "Chirp number :  135\n",
            "Chirp number :  136\n",
            "Chirp number :  137\n",
            "Chirp number :  138\n",
            "Chirp number :  139\n",
            "Chirp number :  140\n",
            "Chirp number :  141\n",
            "Chirp number :  142\n",
            "Chirp number :  143\n",
            "Chirp number :  144\n",
            "Chirp number :  145\n",
            "Chirp number :  146\n",
            "Chirp number :  147\n",
            "Chirp number :  148\n",
            "Chirp number :  149\n",
            "Chirp number :  150\n",
            "Chirp number :  151\n",
            "Chirp number :  152\n",
            "Chirp number :  153\n",
            "Chirp number :  154\n",
            "Chirp number :  155\n",
            "Chirp number :  156\n",
            "Chirp number :  157\n",
            "Chirp number :  158\n",
            "Chirp number :  159\n",
            "Chirp number :  160\n",
            "Chirp number :  161\n",
            "Chirp number :  162\n",
            "Chirp number :  163\n",
            "Chirp number :  164\n",
            "Chirp number :  165\n",
            "Chirp number :  166\n",
            "Chirp number :  167\n",
            "Chirp number :  168\n",
            "Chirp number :  169\n",
            "Chirp number :  170\n",
            "Chirp number :  171\n",
            "Chirp number :  172\n",
            "Chirp number :  173\n",
            "Chirp number :  174\n",
            "Chirp number :  175\n",
            "Chirp number :  176\n",
            "Chirp number :  177\n",
            "Chirp number :  178\n",
            "Chirp number :  179\n",
            "Chirp number :  180\n",
            "Chirp number :  181\n",
            "Chirp number :  182\n",
            "Chirp number :  183\n",
            "Chirp number :  184\n",
            "Chirp number :  185\n",
            "Chirp number :  186\n",
            "Chirp number :  187\n",
            "Chirp number :  188\n",
            "Chirp number :  189\n",
            "Chirp number :  190\n",
            "Chirp number :  191\n",
            "Chirp number :  192\n",
            "Chirp number :  193\n",
            "Chirp number :  194\n",
            "Chirp number :  195\n",
            "Chirp number :  196\n",
            "Chirp number :  197\n",
            "Chirp number :  198\n",
            "Chirp number :  199\n",
            "Chirp number :  200\n",
            "Chirp number :  201\n",
            "Chirp number :  202\n",
            "Chirp number :  203\n",
            "Chirp number :  204\n",
            "Chirp number :  205\n",
            "Chirp number :  206\n",
            "Chirp number :  207\n",
            "Chirp number :  208\n",
            "Chirp number :  209\n",
            "Chirp number :  210\n",
            "Chirp number :  211\n",
            "Chirp number :  212\n",
            "Chirp number :  213\n",
            "Chirp number :  214\n",
            "Chirp number :  215\n",
            "Chirp number :  216\n",
            "Chirp number :  217\n",
            "Chirp number :  218\n",
            "Chirp number :  219\n",
            "Chirp number :  220\n",
            "Chirp number :  221\n",
            "Chirp number :  222\n",
            "Chirp number :  223\n",
            "Chirp number :  224\n",
            "Chirp number :  225\n",
            "Chirp number :  226\n",
            "Chirp number :  227\n",
            "Chirp number :  228\n",
            "Chirp number :  229\n",
            "Chirp number :  230\n",
            "Chirp number :  231\n",
            "Chirp number :  232\n",
            "Chirp number :  233\n",
            "Chirp number :  234\n",
            "Chirp number :  235\n",
            "Chirp number :  236\n",
            "Chirp number :  237\n",
            "Chirp number :  238\n",
            "Chirp number :  239\n",
            "Chirp number :  240\n",
            "Chirp number :  241\n",
            "Chirp number :  242\n",
            "Chirp number :  243\n",
            "Chirp number :  244\n",
            "Chirp number :  245\n",
            "Chirp number :  246\n",
            "Chirp number :  247\n",
            "Chirp number :  248\n",
            "Chirp number :  249\n",
            "Chirp number :  250\n",
            "Chirp number :  251\n",
            "Chirp number :  252\n",
            "Chirp number :  253\n",
            "Chirp number :  254\n",
            "Chirp number :  255\n"
          ]
        }
      ]
    },
    {
      "cell_type": "markdown",
      "source": [
        "Number of chirps that has been correctly detected."
      ],
      "metadata": {
        "id": "de1xvnxi3L6r"
      }
    },
    {
      "cell_type": "code",
      "source": [
        "correct_chirps=0\n",
        "for i in range(256):\n",
        "  if(my_m[i]==detected_signal_m[i] and my_l[i]==detected_signal_l[i]):\n",
        "    correct_chirps=correct_chirps+1\n",
        "print(\"Number of chirps that has been detected correctly : \",correct_chirps)"
      ],
      "metadata": {
        "id": "lLL4XkIM3K2a",
        "colab": {
          "base_uri": "https://localhost:8080/"
        },
        "outputId": "be36634f-a936-4329-8d9c-50eea9a50b4a"
      },
      "execution_count": null,
      "outputs": [
        {
          "output_type": "stream",
          "name": "stdout",
          "text": [
            "Number of chirps that has been detected correctly :  256\n"
          ]
        }
      ]
    },
    {
      "cell_type": "markdown",
      "source": [
        "Adding noise 20 dB."
      ],
      "metadata": {
        "id": "M2Hx-GON3WFd"
      }
    },
    {
      "cell_type": "code",
      "source": [
        "i=1j\n",
        "sigma=0.07\n",
        "noise_real=cp.random.normal(0,sigma,np.shape(signal)[0])\n",
        "noise_image=cp.random.normal(0,sigma,np.shape(signal)[0])\n",
        "noise=noise_real+i*noise_image\n",
        "noisy_signal=signal+noise\n",
        "print(\"The SNR : \",my_snr(signal,noisy_signal))"
      ],
      "metadata": {
        "id": "TvLBe2nY3adu",
        "colab": {
          "base_uri": "https://localhost:8080/"
        },
        "outputId": "9a0e2328-ab26-4ccb-e85c-24dab5e34c7e"
      },
      "execution_count": null,
      "outputs": [
        {
          "output_type": "stream",
          "name": "stdout",
          "text": [
            "The SNR :  20.05713706467811\n"
          ]
        }
      ]
    },
    {
      "cell_type": "markdown",
      "source": [
        "Processing the sequence of chirps without STFT method."
      ],
      "metadata": {
        "id": "lZWeAgFM3woF"
      }
    },
    {
      "cell_type": "code",
      "source": [
        "detected_signal_l=[]\n",
        "detected_signal_m=[]\n",
        "for i in range(256):\n",
        "  minimum_distance=1000\n",
        "  detected_l=0\n",
        "  detected_m=0\n",
        "  detected_signal=noisy_signal[i*(int(T_c * f_s)+int(10**(-7)*f_s)):i*(int(T_c * f_s)+int(10**(-7)*f_s))+int(T_c * f_s)]\n",
        "  for j in range(128):\n",
        "    for k in range(64):\n",
        "      compared_chirp=chirps[j][k]\n",
        "      distance=cp.mean(cp.abs(cp.power(cp.abs(detected_signal-compared_chirp),2)))\n",
        "      if(distance<minimum_distance):\n",
        "        minimum_distance=distance\n",
        "        detected_l=j\n",
        "        detected_m=k\n",
        "  detected_signal_l.append(detected_l)\n",
        "  detected_signal_m.append(detected_m)\n",
        "  print(\"Chirp number : \",i)"
      ],
      "metadata": {
        "id": "MNJ5LPED32pI",
        "colab": {
          "base_uri": "https://localhost:8080/"
        },
        "outputId": "6f983cf4-f6aa-4ab7-8b08-ce3475c5a62b"
      },
      "execution_count": null,
      "outputs": [
        {
          "output_type": "stream",
          "name": "stdout",
          "text": [
            "Chirp number :  0\n",
            "Chirp number :  1\n",
            "Chirp number :  2\n",
            "Chirp number :  3\n",
            "Chirp number :  4\n",
            "Chirp number :  5\n",
            "Chirp number :  6\n",
            "Chirp number :  7\n",
            "Chirp number :  8\n",
            "Chirp number :  9\n",
            "Chirp number :  10\n",
            "Chirp number :  11\n",
            "Chirp number :  12\n",
            "Chirp number :  13\n",
            "Chirp number :  14\n",
            "Chirp number :  15\n",
            "Chirp number :  16\n",
            "Chirp number :  17\n",
            "Chirp number :  18\n",
            "Chirp number :  19\n",
            "Chirp number :  20\n",
            "Chirp number :  21\n",
            "Chirp number :  22\n",
            "Chirp number :  23\n",
            "Chirp number :  24\n",
            "Chirp number :  25\n",
            "Chirp number :  26\n",
            "Chirp number :  27\n",
            "Chirp number :  28\n",
            "Chirp number :  29\n",
            "Chirp number :  30\n",
            "Chirp number :  31\n",
            "Chirp number :  32\n",
            "Chirp number :  33\n",
            "Chirp number :  34\n",
            "Chirp number :  35\n",
            "Chirp number :  36\n",
            "Chirp number :  37\n",
            "Chirp number :  38\n",
            "Chirp number :  39\n",
            "Chirp number :  40\n",
            "Chirp number :  41\n",
            "Chirp number :  42\n",
            "Chirp number :  43\n",
            "Chirp number :  44\n",
            "Chirp number :  45\n",
            "Chirp number :  46\n",
            "Chirp number :  47\n",
            "Chirp number :  48\n",
            "Chirp number :  49\n",
            "Chirp number :  50\n",
            "Chirp number :  51\n",
            "Chirp number :  52\n",
            "Chirp number :  53\n",
            "Chirp number :  54\n",
            "Chirp number :  55\n",
            "Chirp number :  56\n",
            "Chirp number :  57\n",
            "Chirp number :  58\n",
            "Chirp number :  59\n",
            "Chirp number :  60\n",
            "Chirp number :  61\n",
            "Chirp number :  62\n",
            "Chirp number :  63\n",
            "Chirp number :  64\n",
            "Chirp number :  65\n",
            "Chirp number :  66\n",
            "Chirp number :  67\n",
            "Chirp number :  68\n",
            "Chirp number :  69\n",
            "Chirp number :  70\n",
            "Chirp number :  71\n",
            "Chirp number :  72\n",
            "Chirp number :  73\n",
            "Chirp number :  74\n",
            "Chirp number :  75\n",
            "Chirp number :  76\n",
            "Chirp number :  77\n",
            "Chirp number :  78\n",
            "Chirp number :  79\n",
            "Chirp number :  80\n",
            "Chirp number :  81\n",
            "Chirp number :  82\n",
            "Chirp number :  83\n",
            "Chirp number :  84\n",
            "Chirp number :  85\n",
            "Chirp number :  86\n",
            "Chirp number :  87\n",
            "Chirp number :  88\n",
            "Chirp number :  89\n",
            "Chirp number :  90\n",
            "Chirp number :  91\n",
            "Chirp number :  92\n",
            "Chirp number :  93\n",
            "Chirp number :  94\n",
            "Chirp number :  95\n",
            "Chirp number :  96\n",
            "Chirp number :  97\n",
            "Chirp number :  98\n",
            "Chirp number :  99\n",
            "Chirp number :  100\n",
            "Chirp number :  101\n",
            "Chirp number :  102\n",
            "Chirp number :  103\n",
            "Chirp number :  104\n",
            "Chirp number :  105\n",
            "Chirp number :  106\n",
            "Chirp number :  107\n",
            "Chirp number :  108\n",
            "Chirp number :  109\n",
            "Chirp number :  110\n",
            "Chirp number :  111\n",
            "Chirp number :  112\n",
            "Chirp number :  113\n",
            "Chirp number :  114\n",
            "Chirp number :  115\n",
            "Chirp number :  116\n",
            "Chirp number :  117\n",
            "Chirp number :  118\n",
            "Chirp number :  119\n",
            "Chirp number :  120\n",
            "Chirp number :  121\n",
            "Chirp number :  122\n",
            "Chirp number :  123\n",
            "Chirp number :  124\n",
            "Chirp number :  125\n",
            "Chirp number :  126\n",
            "Chirp number :  127\n",
            "Chirp number :  128\n",
            "Chirp number :  129\n",
            "Chirp number :  130\n",
            "Chirp number :  131\n",
            "Chirp number :  132\n",
            "Chirp number :  133\n",
            "Chirp number :  134\n",
            "Chirp number :  135\n",
            "Chirp number :  136\n",
            "Chirp number :  137\n",
            "Chirp number :  138\n",
            "Chirp number :  139\n",
            "Chirp number :  140\n",
            "Chirp number :  141\n",
            "Chirp number :  142\n",
            "Chirp number :  143\n",
            "Chirp number :  144\n",
            "Chirp number :  145\n",
            "Chirp number :  146\n",
            "Chirp number :  147\n",
            "Chirp number :  148\n",
            "Chirp number :  149\n",
            "Chirp number :  150\n",
            "Chirp number :  151\n",
            "Chirp number :  152\n",
            "Chirp number :  153\n",
            "Chirp number :  154\n",
            "Chirp number :  155\n",
            "Chirp number :  156\n",
            "Chirp number :  157\n",
            "Chirp number :  158\n",
            "Chirp number :  159\n",
            "Chirp number :  160\n",
            "Chirp number :  161\n",
            "Chirp number :  162\n",
            "Chirp number :  163\n",
            "Chirp number :  164\n",
            "Chirp number :  165\n",
            "Chirp number :  166\n",
            "Chirp number :  167\n",
            "Chirp number :  168\n",
            "Chirp number :  169\n",
            "Chirp number :  170\n",
            "Chirp number :  171\n",
            "Chirp number :  172\n",
            "Chirp number :  173\n",
            "Chirp number :  174\n",
            "Chirp number :  175\n",
            "Chirp number :  176\n",
            "Chirp number :  177\n",
            "Chirp number :  178\n",
            "Chirp number :  179\n",
            "Chirp number :  180\n",
            "Chirp number :  181\n",
            "Chirp number :  182\n",
            "Chirp number :  183\n",
            "Chirp number :  184\n",
            "Chirp number :  185\n",
            "Chirp number :  186\n",
            "Chirp number :  187\n",
            "Chirp number :  188\n",
            "Chirp number :  189\n",
            "Chirp number :  190\n",
            "Chirp number :  191\n",
            "Chirp number :  192\n",
            "Chirp number :  193\n",
            "Chirp number :  194\n",
            "Chirp number :  195\n",
            "Chirp number :  196\n",
            "Chirp number :  197\n",
            "Chirp number :  198\n",
            "Chirp number :  199\n",
            "Chirp number :  200\n",
            "Chirp number :  201\n",
            "Chirp number :  202\n",
            "Chirp number :  203\n",
            "Chirp number :  204\n",
            "Chirp number :  205\n",
            "Chirp number :  206\n",
            "Chirp number :  207\n",
            "Chirp number :  208\n",
            "Chirp number :  209\n",
            "Chirp number :  210\n",
            "Chirp number :  211\n",
            "Chirp number :  212\n",
            "Chirp number :  213\n",
            "Chirp number :  214\n",
            "Chirp number :  215\n",
            "Chirp number :  216\n",
            "Chirp number :  217\n",
            "Chirp number :  218\n",
            "Chirp number :  219\n",
            "Chirp number :  220\n",
            "Chirp number :  221\n",
            "Chirp number :  222\n",
            "Chirp number :  223\n",
            "Chirp number :  224\n",
            "Chirp number :  225\n",
            "Chirp number :  226\n",
            "Chirp number :  227\n",
            "Chirp number :  228\n",
            "Chirp number :  229\n",
            "Chirp number :  230\n",
            "Chirp number :  231\n",
            "Chirp number :  232\n",
            "Chirp number :  233\n",
            "Chirp number :  234\n",
            "Chirp number :  235\n",
            "Chirp number :  236\n",
            "Chirp number :  237\n",
            "Chirp number :  238\n",
            "Chirp number :  239\n",
            "Chirp number :  240\n",
            "Chirp number :  241\n",
            "Chirp number :  242\n",
            "Chirp number :  243\n",
            "Chirp number :  244\n",
            "Chirp number :  245\n",
            "Chirp number :  246\n",
            "Chirp number :  247\n",
            "Chirp number :  248\n",
            "Chirp number :  249\n",
            "Chirp number :  250\n",
            "Chirp number :  251\n",
            "Chirp number :  252\n",
            "Chirp number :  253\n",
            "Chirp number :  254\n",
            "Chirp number :  255\n"
          ]
        }
      ]
    },
    {
      "cell_type": "markdown",
      "source": [
        "Number of chirps that has been detected correctly."
      ],
      "metadata": {
        "id": "-aKBOZHi4K8E"
      }
    },
    {
      "cell_type": "code",
      "source": [
        "correct_chirps=0\n",
        "for i in range(256):\n",
        "  if(my_m[i]==detected_signal_m[i] and my_l[i]==detected_signal_l[i]):\n",
        "    correct_chirps=correct_chirps+1\n",
        "print(\"Number of chirps that has been detected correctly : \",correct_chirps)"
      ],
      "metadata": {
        "id": "Mi6D6_eP4J_y",
        "colab": {
          "base_uri": "https://localhost:8080/"
        },
        "outputId": "4236a2fc-b587-4d7b-87d1-1b943eb06870"
      },
      "execution_count": null,
      "outputs": [
        {
          "output_type": "stream",
          "name": "stdout",
          "text": [
            "Number of chirps that has been detected correctly :  256\n"
          ]
        }
      ]
    },
    {
      "cell_type": "markdown",
      "source": [
        "Calculating the STFT of all possible chirps."
      ],
      "metadata": {
        "id": "uJ0Zlk4jzPy1"
      }
    },
    {
      "cell_type": "code",
      "execution_count": null,
      "metadata": {
        "colab": {
          "base_uri": "https://localhost:8080/"
        },
        "id": "xrOPSnn8yTG1",
        "outputId": "fb7058ad-8384-4179-e8ef-e4d0ab511773"
      },
      "outputs": [
        {
          "output_type": "stream",
          "name": "stderr",
          "text": [
            "<ipython-input-15-2d17719759b1>:7: ComplexWarning: Casting complex values to real discards the imaginary part\n",
            "  STFT[j][k][int(T_c * f_s)/10*i:int(T_c * f_s)/10*(i+1)]=stft\n"
          ]
        }
      ],
      "source": [
        "STFT=cp.zeros(shape=(128,64,int(T_c * f_s)))\n",
        "for j in range(128):\n",
        "    for k in range(64):\n",
        "      for i in range(10):\n",
        "        signal_1=chirps[j][k][int(T_c * f_s)/10*i:int(T_c * f_s)/10*(i+1)]\n",
        "        stft=cp.fft.fft(signal_1)\n",
        "        STFT[j][k][int(T_c * f_s)/10*i:int(T_c * f_s)/10*(i+1)]=stft\n"
      ]
    },
    {
      "cell_type": "markdown",
      "source": [
        "Adding noise 0 dB."
      ],
      "metadata": {
        "id": "-IGVpBi54fgi"
      }
    },
    {
      "cell_type": "code",
      "source": [
        "i=1j\n",
        "sigma=0.7\n",
        "noise_real=cp.random.normal(0,sigma,np.shape(signal)[0])\n",
        "noise_image=cp.random.normal(0,sigma,np.shape(signal)[0])\n",
        "noise=noise_real+i*noise_image\n",
        "noisy_signal=signal+noise\n",
        "print(\"The SNR : \",my_snr(signal,noisy_signal))"
      ],
      "metadata": {
        "id": "WfLBLNZI4kD-",
        "colab": {
          "base_uri": "https://localhost:8080/"
        },
        "outputId": "dc495248-b6f5-4054-c6d0-16da154c2690"
      },
      "execution_count": null,
      "outputs": [
        {
          "output_type": "stream",
          "name": "stdout",
          "text": [
            "The SNR :  0.05766762676453184\n"
          ]
        }
      ]
    },
    {
      "cell_type": "markdown",
      "source": [
        "Processing the sequence of chirps with STFT method."
      ],
      "metadata": {
        "id": "Zce6oUjdzX-e"
      }
    },
    {
      "cell_type": "code",
      "execution_count": null,
      "metadata": {
        "colab": {
          "base_uri": "https://localhost:8080/"
        },
        "id": "o44XqUK451OB",
        "outputId": "e3a9dc3c-5f17-40cb-c71d-4bda5cbda1fa"
      },
      "outputs": [
        {
          "output_type": "stream",
          "name": "stderr",
          "text": [
            "<ipython-input-17-7c0bd7e48aec>:12: ComplexWarning: Casting complex values to real discards the imaginary part\n",
            "  signal_stft[int(T_c * f_s)/10*u:int(T_c * f_s)/10*(u+1)]=stft\n"
          ]
        },
        {
          "output_type": "stream",
          "name": "stdout",
          "text": [
            "Chirp number :  0\n",
            "Chirp number :  1\n",
            "Chirp number :  2\n",
            "Chirp number :  3\n",
            "Chirp number :  4\n",
            "Chirp number :  5\n",
            "Chirp number :  6\n",
            "Chirp number :  7\n",
            "Chirp number :  8\n",
            "Chirp number :  9\n",
            "Chirp number :  10\n",
            "Chirp number :  11\n",
            "Chirp number :  12\n",
            "Chirp number :  13\n",
            "Chirp number :  14\n",
            "Chirp number :  15\n",
            "Chirp number :  16\n",
            "Chirp number :  17\n",
            "Chirp number :  18\n",
            "Chirp number :  19\n",
            "Chirp number :  20\n",
            "Chirp number :  21\n",
            "Chirp number :  22\n",
            "Chirp number :  23\n",
            "Chirp number :  24\n",
            "Chirp number :  25\n",
            "Chirp number :  26\n",
            "Chirp number :  27\n",
            "Chirp number :  28\n",
            "Chirp number :  29\n",
            "Chirp number :  30\n",
            "Chirp number :  31\n",
            "Chirp number :  32\n",
            "Chirp number :  33\n",
            "Chirp number :  34\n",
            "Chirp number :  35\n",
            "Chirp number :  36\n",
            "Chirp number :  37\n",
            "Chirp number :  38\n",
            "Chirp number :  39\n",
            "Chirp number :  40\n",
            "Chirp number :  41\n",
            "Chirp number :  42\n",
            "Chirp number :  43\n",
            "Chirp number :  44\n",
            "Chirp number :  45\n",
            "Chirp number :  46\n",
            "Chirp number :  47\n",
            "Chirp number :  48\n",
            "Chirp number :  49\n",
            "Chirp number :  50\n",
            "Chirp number :  51\n",
            "Chirp number :  52\n",
            "Chirp number :  53\n",
            "Chirp number :  54\n",
            "Chirp number :  55\n",
            "Chirp number :  56\n",
            "Chirp number :  57\n",
            "Chirp number :  58\n",
            "Chirp number :  59\n",
            "Chirp number :  60\n",
            "Chirp number :  61\n",
            "Chirp number :  62\n",
            "Chirp number :  63\n",
            "Chirp number :  64\n",
            "Chirp number :  65\n",
            "Chirp number :  66\n",
            "Chirp number :  67\n",
            "Chirp number :  68\n",
            "Chirp number :  69\n",
            "Chirp number :  70\n",
            "Chirp number :  71\n",
            "Chirp number :  72\n",
            "Chirp number :  73\n",
            "Chirp number :  74\n",
            "Chirp number :  75\n",
            "Chirp number :  76\n",
            "Chirp number :  77\n",
            "Chirp number :  78\n",
            "Chirp number :  79\n",
            "Chirp number :  80\n",
            "Chirp number :  81\n",
            "Chirp number :  82\n",
            "Chirp number :  83\n",
            "Chirp number :  84\n",
            "Chirp number :  85\n",
            "Chirp number :  86\n",
            "Chirp number :  87\n",
            "Chirp number :  88\n",
            "Chirp number :  89\n",
            "Chirp number :  90\n",
            "Chirp number :  91\n",
            "Chirp number :  92\n",
            "Chirp number :  93\n",
            "Chirp number :  94\n",
            "Chirp number :  95\n",
            "Chirp number :  96\n",
            "Chirp number :  97\n",
            "Chirp number :  98\n",
            "Chirp number :  99\n",
            "Chirp number :  100\n",
            "Chirp number :  101\n",
            "Chirp number :  102\n",
            "Chirp number :  103\n",
            "Chirp number :  104\n",
            "Chirp number :  105\n",
            "Chirp number :  106\n",
            "Chirp number :  107\n",
            "Chirp number :  108\n",
            "Chirp number :  109\n",
            "Chirp number :  110\n",
            "Chirp number :  111\n",
            "Chirp number :  112\n",
            "Chirp number :  113\n",
            "Chirp number :  114\n",
            "Chirp number :  115\n",
            "Chirp number :  116\n",
            "Chirp number :  117\n",
            "Chirp number :  118\n",
            "Chirp number :  119\n",
            "Chirp number :  120\n",
            "Chirp number :  121\n",
            "Chirp number :  122\n",
            "Chirp number :  123\n",
            "Chirp number :  124\n",
            "Chirp number :  125\n",
            "Chirp number :  126\n",
            "Chirp number :  127\n",
            "Chirp number :  128\n",
            "Chirp number :  129\n",
            "Chirp number :  130\n",
            "Chirp number :  131\n",
            "Chirp number :  132\n",
            "Chirp number :  133\n",
            "Chirp number :  134\n",
            "Chirp number :  135\n",
            "Chirp number :  136\n",
            "Chirp number :  137\n",
            "Chirp number :  138\n",
            "Chirp number :  139\n",
            "Chirp number :  140\n",
            "Chirp number :  141\n",
            "Chirp number :  142\n",
            "Chirp number :  143\n",
            "Chirp number :  144\n",
            "Chirp number :  145\n",
            "Chirp number :  146\n",
            "Chirp number :  147\n",
            "Chirp number :  148\n",
            "Chirp number :  149\n",
            "Chirp number :  150\n",
            "Chirp number :  151\n",
            "Chirp number :  152\n",
            "Chirp number :  153\n",
            "Chirp number :  154\n",
            "Chirp number :  155\n",
            "Chirp number :  156\n",
            "Chirp number :  157\n",
            "Chirp number :  158\n",
            "Chirp number :  159\n",
            "Chirp number :  160\n",
            "Chirp number :  161\n",
            "Chirp number :  162\n",
            "Chirp number :  163\n",
            "Chirp number :  164\n",
            "Chirp number :  165\n",
            "Chirp number :  166\n",
            "Chirp number :  167\n",
            "Chirp number :  168\n",
            "Chirp number :  169\n",
            "Chirp number :  170\n",
            "Chirp number :  171\n",
            "Chirp number :  172\n",
            "Chirp number :  173\n",
            "Chirp number :  174\n",
            "Chirp number :  175\n",
            "Chirp number :  176\n",
            "Chirp number :  177\n",
            "Chirp number :  178\n",
            "Chirp number :  179\n",
            "Chirp number :  180\n",
            "Chirp number :  181\n",
            "Chirp number :  182\n",
            "Chirp number :  183\n",
            "Chirp number :  184\n",
            "Chirp number :  185\n",
            "Chirp number :  186\n",
            "Chirp number :  187\n",
            "Chirp number :  188\n",
            "Chirp number :  189\n",
            "Chirp number :  190\n",
            "Chirp number :  191\n",
            "Chirp number :  192\n",
            "Chirp number :  193\n",
            "Chirp number :  194\n",
            "Chirp number :  195\n",
            "Chirp number :  196\n",
            "Chirp number :  197\n",
            "Chirp number :  198\n",
            "Chirp number :  199\n",
            "Chirp number :  200\n",
            "Chirp number :  201\n",
            "Chirp number :  202\n",
            "Chirp number :  203\n",
            "Chirp number :  204\n",
            "Chirp number :  205\n",
            "Chirp number :  206\n",
            "Chirp number :  207\n",
            "Chirp number :  208\n",
            "Chirp number :  209\n",
            "Chirp number :  210\n",
            "Chirp number :  211\n",
            "Chirp number :  212\n",
            "Chirp number :  213\n",
            "Chirp number :  214\n",
            "Chirp number :  215\n",
            "Chirp number :  216\n",
            "Chirp number :  217\n",
            "Chirp number :  218\n",
            "Chirp number :  219\n",
            "Chirp number :  220\n",
            "Chirp number :  221\n",
            "Chirp number :  222\n",
            "Chirp number :  223\n",
            "Chirp number :  224\n",
            "Chirp number :  225\n",
            "Chirp number :  226\n",
            "Chirp number :  227\n",
            "Chirp number :  228\n",
            "Chirp number :  229\n",
            "Chirp number :  230\n",
            "Chirp number :  231\n",
            "Chirp number :  232\n",
            "Chirp number :  233\n",
            "Chirp number :  234\n",
            "Chirp number :  235\n",
            "Chirp number :  236\n",
            "Chirp number :  237\n",
            "Chirp number :  238\n",
            "Chirp number :  239\n",
            "Chirp number :  240\n",
            "Chirp number :  241\n",
            "Chirp number :  242\n",
            "Chirp number :  243\n",
            "Chirp number :  244\n",
            "Chirp number :  245\n",
            "Chirp number :  246\n",
            "Chirp number :  247\n",
            "Chirp number :  248\n",
            "Chirp number :  249\n",
            "Chirp number :  250\n",
            "Chirp number :  251\n",
            "Chirp number :  252\n",
            "Chirp number :  253\n",
            "Chirp number :  254\n",
            "Chirp number :  255\n"
          ]
        }
      ],
      "source": [
        "detected_signal_l=[]\n",
        "detected_signal_m=[]\n",
        "for i in range(256):\n",
        "  minimum_distance=1000000\n",
        "  detected_l=0\n",
        "  detected_m=0\n",
        "  detected_signal=noisy_signal[i*(int(T_c * f_s)+int(10**(-7)*f_s)):i*(int(T_c * f_s)+int(10**(-7)*f_s))+int(T_c * f_s)]\n",
        "  signal_stft=cp.zeros(int(T_c * f_s))\n",
        "  for u in range(10):\n",
        "    signal_1=detected_signal[int(T_c * f_s)/10*u:int(T_c * f_s)/10*(u+1)]\n",
        "    stft=cp.fft.fft(signal_1)\n",
        "    signal_stft[int(T_c * f_s)/10*u:int(T_c * f_s)/10*(u+1)]=stft\n",
        "  for j in range(128):\n",
        "    for k in range(64):\n",
        "      compared_chirp_stft=STFT[j][k]\n",
        "      distance=cp.mean(cp.abs(cp.power(cp.abs(signal_stft-compared_chirp_stft),2)))\n",
        "      if(distance<minimum_distance):\n",
        "        minimum_distance=distance\n",
        "        detected_l=j\n",
        "        detected_m=k\n",
        "  detected_signal_l.append(detected_l)\n",
        "  detected_signal_m.append(detected_m)\n",
        "  print(\"Chirp number : \",i)"
      ]
    },
    {
      "cell_type": "markdown",
      "source": [
        "Number of chirps that has been detected correctly."
      ],
      "metadata": {
        "id": "ZjeRq-Y7zgqZ"
      }
    },
    {
      "cell_type": "code",
      "source": [
        "correct_chirps=0\n",
        "for i in range(256):\n",
        "  if(my_m[i]==detected_signal_m[i] and my_l[i]==detected_signal_l[i]):\n",
        "    correct_chirps=correct_chirps+1\n",
        "print(\"Number of chirps that has been detected correctly : \",correct_chirps)"
      ],
      "metadata": {
        "colab": {
          "base_uri": "https://localhost:8080/"
        },
        "id": "hrs7R9hAIaGA",
        "outputId": "3883abb5-7cad-42aa-e980-59d1b5eb8522"
      },
      "execution_count": null,
      "outputs": [
        {
          "output_type": "stream",
          "name": "stdout",
          "text": [
            "Number of chirps that has been detected correctly :  256\n"
          ]
        }
      ]
    },
    {
      "cell_type": "markdown",
      "source": [
        "Adding noise 10 dB."
      ],
      "metadata": {
        "id": "2LjQ8U_W4ta7"
      }
    },
    {
      "cell_type": "code",
      "source": [
        "i=1j\n",
        "sigma=0.22\n",
        "noise_real=cp.random.normal(0,sigma,np.shape(signal)[0])\n",
        "noise_image=cp.random.normal(0,sigma,np.shape(signal)[0])\n",
        "noise=noise_real+i*noise_image\n",
        "noisy_signal=signal+noise\n",
        "print(\"The SNR : \",my_snr(signal,noisy_signal))"
      ],
      "metadata": {
        "id": "XvcHydX7404L",
        "colab": {
          "base_uri": "https://localhost:8080/"
        },
        "outputId": "81d717a9-bba3-470e-b9fe-fb907af0143d"
      },
      "execution_count": null,
      "outputs": [
        {
          "output_type": "stream",
          "name": "stdout",
          "text": [
            "The SNR :  10.11282524067015\n"
          ]
        }
      ]
    },
    {
      "cell_type": "markdown",
      "source": [
        "Processing the sequence of chirps with STFT method."
      ],
      "metadata": {
        "id": "v3IoFGY25XP6"
      }
    },
    {
      "cell_type": "code",
      "source": [
        "detected_signal_l=[]\n",
        "detected_signal_m=[]\n",
        "for i in range(256):\n",
        "  minimum_distance=1000000\n",
        "  detected_l=0\n",
        "  detected_m=0\n",
        "  detected_signal=noisy_signal[i*(int(T_c * f_s)+int(10**(-7)*f_s)):i*(int(T_c * f_s)+int(10**(-7)*f_s))+int(T_c * f_s)]\n",
        "  signal_stft=cp.zeros(int(T_c * f_s))\n",
        "  for u in range(10):\n",
        "    signal_1=detected_signal[int(T_c * f_s)/10*u:int(T_c * f_s)/10*(u+1)]\n",
        "    stft=cp.fft.fft(signal_1)\n",
        "    signal_stft[int(T_c * f_s)/10*u:int(T_c * f_s)/10*(u+1)]=stft\n",
        "  for j in range(128):\n",
        "    for k in range(64):\n",
        "      compared_chirp_stft=STFT[j][k]\n",
        "      distance=cp.mean(cp.abs(cp.power(cp.abs(signal_stft-compared_chirp_stft),2)))\n",
        "      if(distance<minimum_distance):\n",
        "        minimum_distance=distance\n",
        "        detected_l=j\n",
        "        detected_m=k\n",
        "  detected_signal_l.append(detected_l)\n",
        "  detected_signal_m.append(detected_m)\n",
        "  print(\"Chirp number : \",i)"
      ],
      "metadata": {
        "id": "NLj8il5x5YiM",
        "colab": {
          "base_uri": "https://localhost:8080/"
        },
        "outputId": "e5b1307b-3fae-4512-f451-ba69260f0533"
      },
      "execution_count": null,
      "outputs": [
        {
          "output_type": "stream",
          "name": "stderr",
          "text": [
            "<ipython-input-20-7c0bd7e48aec>:12: ComplexWarning: Casting complex values to real discards the imaginary part\n",
            "  signal_stft[int(T_c * f_s)/10*u:int(T_c * f_s)/10*(u+1)]=stft\n"
          ]
        },
        {
          "output_type": "stream",
          "name": "stdout",
          "text": [
            "Chirp number :  0\n",
            "Chirp number :  1\n",
            "Chirp number :  2\n",
            "Chirp number :  3\n",
            "Chirp number :  4\n",
            "Chirp number :  5\n",
            "Chirp number :  6\n",
            "Chirp number :  7\n",
            "Chirp number :  8\n",
            "Chirp number :  9\n",
            "Chirp number :  10\n",
            "Chirp number :  11\n",
            "Chirp number :  12\n",
            "Chirp number :  13\n",
            "Chirp number :  14\n",
            "Chirp number :  15\n",
            "Chirp number :  16\n",
            "Chirp number :  17\n",
            "Chirp number :  18\n",
            "Chirp number :  19\n",
            "Chirp number :  20\n",
            "Chirp number :  21\n",
            "Chirp number :  22\n",
            "Chirp number :  23\n",
            "Chirp number :  24\n",
            "Chirp number :  25\n",
            "Chirp number :  26\n",
            "Chirp number :  27\n",
            "Chirp number :  28\n",
            "Chirp number :  29\n",
            "Chirp number :  30\n",
            "Chirp number :  31\n",
            "Chirp number :  32\n",
            "Chirp number :  33\n",
            "Chirp number :  34\n",
            "Chirp number :  35\n",
            "Chirp number :  36\n",
            "Chirp number :  37\n",
            "Chirp number :  38\n",
            "Chirp number :  39\n",
            "Chirp number :  40\n",
            "Chirp number :  41\n",
            "Chirp number :  42\n",
            "Chirp number :  43\n",
            "Chirp number :  44\n",
            "Chirp number :  45\n",
            "Chirp number :  46\n",
            "Chirp number :  47\n",
            "Chirp number :  48\n",
            "Chirp number :  49\n",
            "Chirp number :  50\n",
            "Chirp number :  51\n",
            "Chirp number :  52\n",
            "Chirp number :  53\n",
            "Chirp number :  54\n",
            "Chirp number :  55\n",
            "Chirp number :  56\n",
            "Chirp number :  57\n",
            "Chirp number :  58\n",
            "Chirp number :  59\n",
            "Chirp number :  60\n",
            "Chirp number :  61\n",
            "Chirp number :  62\n",
            "Chirp number :  63\n",
            "Chirp number :  64\n",
            "Chirp number :  65\n",
            "Chirp number :  66\n",
            "Chirp number :  67\n",
            "Chirp number :  68\n",
            "Chirp number :  69\n",
            "Chirp number :  70\n",
            "Chirp number :  71\n",
            "Chirp number :  72\n",
            "Chirp number :  73\n",
            "Chirp number :  74\n",
            "Chirp number :  75\n",
            "Chirp number :  76\n",
            "Chirp number :  77\n",
            "Chirp number :  78\n",
            "Chirp number :  79\n",
            "Chirp number :  80\n",
            "Chirp number :  81\n",
            "Chirp number :  82\n",
            "Chirp number :  83\n",
            "Chirp number :  84\n",
            "Chirp number :  85\n",
            "Chirp number :  86\n",
            "Chirp number :  87\n",
            "Chirp number :  88\n",
            "Chirp number :  89\n",
            "Chirp number :  90\n",
            "Chirp number :  91\n",
            "Chirp number :  92\n",
            "Chirp number :  93\n",
            "Chirp number :  94\n",
            "Chirp number :  95\n",
            "Chirp number :  96\n",
            "Chirp number :  97\n",
            "Chirp number :  98\n",
            "Chirp number :  99\n",
            "Chirp number :  100\n",
            "Chirp number :  101\n",
            "Chirp number :  102\n",
            "Chirp number :  103\n",
            "Chirp number :  104\n",
            "Chirp number :  105\n",
            "Chirp number :  106\n",
            "Chirp number :  107\n",
            "Chirp number :  108\n",
            "Chirp number :  109\n",
            "Chirp number :  110\n",
            "Chirp number :  111\n",
            "Chirp number :  112\n",
            "Chirp number :  113\n",
            "Chirp number :  114\n",
            "Chirp number :  115\n",
            "Chirp number :  116\n",
            "Chirp number :  117\n",
            "Chirp number :  118\n",
            "Chirp number :  119\n",
            "Chirp number :  120\n",
            "Chirp number :  121\n",
            "Chirp number :  122\n",
            "Chirp number :  123\n",
            "Chirp number :  124\n",
            "Chirp number :  125\n",
            "Chirp number :  126\n",
            "Chirp number :  127\n",
            "Chirp number :  128\n",
            "Chirp number :  129\n",
            "Chirp number :  130\n",
            "Chirp number :  131\n",
            "Chirp number :  132\n",
            "Chirp number :  133\n",
            "Chirp number :  134\n",
            "Chirp number :  135\n",
            "Chirp number :  136\n",
            "Chirp number :  137\n",
            "Chirp number :  138\n",
            "Chirp number :  139\n",
            "Chirp number :  140\n",
            "Chirp number :  141\n",
            "Chirp number :  142\n",
            "Chirp number :  143\n",
            "Chirp number :  144\n",
            "Chirp number :  145\n",
            "Chirp number :  146\n",
            "Chirp number :  147\n",
            "Chirp number :  148\n",
            "Chirp number :  149\n",
            "Chirp number :  150\n",
            "Chirp number :  151\n",
            "Chirp number :  152\n",
            "Chirp number :  153\n",
            "Chirp number :  154\n",
            "Chirp number :  155\n",
            "Chirp number :  156\n",
            "Chirp number :  157\n",
            "Chirp number :  158\n",
            "Chirp number :  159\n",
            "Chirp number :  160\n",
            "Chirp number :  161\n",
            "Chirp number :  162\n",
            "Chirp number :  163\n",
            "Chirp number :  164\n",
            "Chirp number :  165\n",
            "Chirp number :  166\n",
            "Chirp number :  167\n",
            "Chirp number :  168\n",
            "Chirp number :  169\n",
            "Chirp number :  170\n",
            "Chirp number :  171\n",
            "Chirp number :  172\n",
            "Chirp number :  173\n",
            "Chirp number :  174\n",
            "Chirp number :  175\n",
            "Chirp number :  176\n",
            "Chirp number :  177\n",
            "Chirp number :  178\n",
            "Chirp number :  179\n",
            "Chirp number :  180\n",
            "Chirp number :  181\n",
            "Chirp number :  182\n",
            "Chirp number :  183\n",
            "Chirp number :  184\n",
            "Chirp number :  185\n",
            "Chirp number :  186\n",
            "Chirp number :  187\n",
            "Chirp number :  188\n",
            "Chirp number :  189\n",
            "Chirp number :  190\n",
            "Chirp number :  191\n",
            "Chirp number :  192\n",
            "Chirp number :  193\n",
            "Chirp number :  194\n",
            "Chirp number :  195\n",
            "Chirp number :  196\n",
            "Chirp number :  197\n",
            "Chirp number :  198\n",
            "Chirp number :  199\n",
            "Chirp number :  200\n",
            "Chirp number :  201\n",
            "Chirp number :  202\n",
            "Chirp number :  203\n",
            "Chirp number :  204\n",
            "Chirp number :  205\n",
            "Chirp number :  206\n",
            "Chirp number :  207\n",
            "Chirp number :  208\n",
            "Chirp number :  209\n",
            "Chirp number :  210\n",
            "Chirp number :  211\n",
            "Chirp number :  212\n",
            "Chirp number :  213\n",
            "Chirp number :  214\n"
          ]
        }
      ]
    },
    {
      "cell_type": "markdown",
      "source": [
        "Number of chirps that has been detected correctly."
      ],
      "metadata": {
        "id": "mmPFwb1X5h2e"
      }
    },
    {
      "cell_type": "code",
      "source": [
        "correct_chirps=0\n",
        "for i in range(256):\n",
        "  if(my_m[i]==detected_signal_m[i] and my_l[i]==detected_signal_l[i]):\n",
        "    correct_chirps=correct_chirps+1\n",
        "print(\"Number of chirps that has been detected correctly : \",correct_chirps)"
      ],
      "metadata": {
        "id": "vIudbmFM5iYr",
        "colab": {
          "base_uri": "https://localhost:8080/",
          "height": 245
        },
        "outputId": "c3a47820-4739-4a06-c974-0616ba0d7591"
      },
      "execution_count": null,
      "outputs": [
        {
          "output_type": "error",
          "ename": "NameError",
          "evalue": "name 'my_m' is not defined",
          "traceback": [
            "\u001b[0;31m---------------------------------------------------------------------------\u001b[0m",
            "\u001b[0;31mNameError\u001b[0m                                 Traceback (most recent call last)",
            "\u001b[0;32m<ipython-input-2-4fd9773d874a>\u001b[0m in \u001b[0;36m<cell line: 2>\u001b[0;34m()\u001b[0m\n\u001b[1;32m      1\u001b[0m \u001b[0mcorrect_chirps\u001b[0m\u001b[0;34m=\u001b[0m\u001b[0;36m0\u001b[0m\u001b[0;34m\u001b[0m\u001b[0;34m\u001b[0m\u001b[0m\n\u001b[1;32m      2\u001b[0m \u001b[0;32mfor\u001b[0m \u001b[0mi\u001b[0m \u001b[0;32min\u001b[0m \u001b[0mrange\u001b[0m\u001b[0;34m(\u001b[0m\u001b[0;36m256\u001b[0m\u001b[0;34m)\u001b[0m\u001b[0;34m:\u001b[0m\u001b[0;34m\u001b[0m\u001b[0;34m\u001b[0m\u001b[0m\n\u001b[0;32m----> 3\u001b[0;31m   \u001b[0;32mif\u001b[0m\u001b[0;34m(\u001b[0m\u001b[0mmy_m\u001b[0m\u001b[0;34m[\u001b[0m\u001b[0mi\u001b[0m\u001b[0;34m]\u001b[0m\u001b[0;34m==\u001b[0m\u001b[0mdetected_signal_m\u001b[0m\u001b[0;34m[\u001b[0m\u001b[0mi\u001b[0m\u001b[0;34m]\u001b[0m \u001b[0;32mand\u001b[0m \u001b[0mmy_l\u001b[0m\u001b[0;34m[\u001b[0m\u001b[0mi\u001b[0m\u001b[0;34m]\u001b[0m\u001b[0;34m==\u001b[0m\u001b[0mdetected_signal_l\u001b[0m\u001b[0;34m[\u001b[0m\u001b[0mi\u001b[0m\u001b[0;34m]\u001b[0m\u001b[0;34m)\u001b[0m\u001b[0;34m:\u001b[0m\u001b[0;34m\u001b[0m\u001b[0;34m\u001b[0m\u001b[0m\n\u001b[0m\u001b[1;32m      4\u001b[0m     \u001b[0mcorrect_chirps\u001b[0m\u001b[0;34m=\u001b[0m\u001b[0mcorrect_chirps\u001b[0m\u001b[0;34m+\u001b[0m\u001b[0;36m1\u001b[0m\u001b[0;34m\u001b[0m\u001b[0;34m\u001b[0m\u001b[0m\n\u001b[1;32m      5\u001b[0m \u001b[0mprint\u001b[0m\u001b[0;34m(\u001b[0m\u001b[0;34m\"Number of chirps that has been detected correctly : \"\u001b[0m\u001b[0;34m,\u001b[0m\u001b[0mcorrect_chirps\u001b[0m\u001b[0;34m)\u001b[0m\u001b[0;34m\u001b[0m\u001b[0;34m\u001b[0m\u001b[0m\n",
            "\u001b[0;31mNameError\u001b[0m: name 'my_m' is not defined"
          ]
        }
      ]
    },
    {
      "cell_type": "markdown",
      "source": [
        "Adding noise 20 dB."
      ],
      "metadata": {
        "id": "XJWO216p5ztP"
      }
    },
    {
      "cell_type": "code",
      "source": [
        "i=1j\n",
        "sigma=0.07\n",
        "noise_real=cp.random.normal(0,sigma,np.shape(signal)[0])\n",
        "noise_image=cp.random.normal(0,sigma,np.shape(signal)[0])\n",
        "noise=noise_real+i*noise_image\n",
        "noisy_signal=signal+noise\n",
        "print(\"The SNR : \",my_snr(signal,noisy_signal))"
      ],
      "metadata": {
        "id": "DXDrnBJe56I4"
      },
      "execution_count": null,
      "outputs": []
    },
    {
      "cell_type": "markdown",
      "source": [
        "Processing sequence of chirps with STFT method."
      ],
      "metadata": {
        "id": "zca5j2BQ6m3x"
      }
    },
    {
      "cell_type": "code",
      "source": [
        "detected_signal_l=[]\n",
        "detected_signal_m=[]\n",
        "for i in range(256):\n",
        "  minimum_distance=1000000\n",
        "  detected_l=0\n",
        "  detected_m=0\n",
        "  detected_signal=noisy_signal[i*(int(T_c * f_s)+int(10**(-7)*f_s)):i*(int(T_c * f_s)+int(10**(-7)*f_s))+int(T_c * f_s)]\n",
        "  signal_stft=cp.zeros(int(T_c * f_s))\n",
        "  for u in range(10):\n",
        "    signal_1=detected_signal[int(T_c * f_s)/10*u:int(T_c * f_s)/10*(u+1)]\n",
        "    stft=cp.fft.fft(signal_1)\n",
        "    signal_stft[int(T_c * f_s)/10*u:int(T_c * f_s)/10*(u+1)]=stft\n",
        "  for j in range(128):\n",
        "    for k in range(64):\n",
        "      compared_chirp_stft=STFT[j][k]\n",
        "      distance=cp.mean(cp.abs(cp.power(cp.abs(signal_stft-compared_chirp_stft),2)))\n",
        "      if(distance<minimum_distance):\n",
        "        minimum_distance=distance\n",
        "        detected_l=j\n",
        "        detected_m=k\n",
        "  detected_signal_l.append(detected_l)\n",
        "  detected_signal_m.append(detected_m)\n",
        "  print(\"Chirp number : \",i)"
      ],
      "metadata": {
        "id": "nR7GnSjr61Bg"
      },
      "execution_count": null,
      "outputs": []
    },
    {
      "cell_type": "markdown",
      "source": [
        "Number of chirps that has been detected correctly."
      ],
      "metadata": {
        "id": "ETsOKdZV69PA"
      }
    },
    {
      "cell_type": "code",
      "source": [
        "correct_chirps=0\n",
        "for i in range(256):\n",
        "  if(my_m[i]==detected_signal_m[i] and my_l[i]==detected_signal_l[i]):\n",
        "    correct_chirps=correct_chirps+1\n",
        "print(\"Number of chirps that has been detected correctly : \",correct_chirps)"
      ],
      "metadata": {
        "id": "u2xOK3rd7IW6"
      },
      "execution_count": null,
      "outputs": []
    },
    {
      "cell_type": "markdown",
      "source": [
        "Plotting the STFT for 3 consecutive chirps for the signal with noise that has 10 dB SNR."
      ],
      "metadata": {
        "id": "EroKTzGH7dCf"
      }
    },
    {
      "cell_type": "code",
      "source": [
        "i=1j\n",
        "sigma=0.22\n",
        "noise_real=cp.random.normal(0,sigma,np.shape(signal)[0])\n",
        "noise_image=cp.random.normal(0,sigma,np.shape(signal)[0])\n",
        "noise=noise_real+i*noise_image\n",
        "noisy_signal=signal+noise\n",
        "print(\"The SNR : \",my_snr(signal,noisy_signal))\n",
        "for i in range(3):\n",
        "  transmitted_signal=signal[i*(int(T_c * f_s)+int(10**(-7)*f_s)):i*(int(T_c * f_s)+int(10**(-7)*f_s))+int(T_c * f_s)]\n",
        "  transmitted_signal_stft=cp.zeros(int(T_c * f_s))\n",
        "  for u in range(10):\n",
        "    signal_1=transmitted_signal[int(T_c * f_s)/10*u:int(T_c * f_s)/10*(u+1)]\n",
        "    stft=cp.fft.fft(signal_1)\n",
        "    transmitted_signal_stft[int(T_c * f_s)/10*u:int(T_c * f_s)/10*(u+1)]=stft\n",
        "  plt.plot(cp.asnumpy(cp.abs(transmitted_signal_stft)))\n",
        "  plt.title(\"Transmitted signal \"+str(i+1)+\" STFT \")\n",
        "  plt.show()\n",
        "  detected_signal=noisy_signal[i*(int(T_c * f_s)+int(10**(-7)*f_s)):i*(int(T_c * f_s)+int(10**(-7)*f_s))+int(T_c * f_s)]\n",
        "  detected_signal_stft=cp.zeros(int(T_c * f_s))\n",
        "  for u in range(10):\n",
        "    signal_1=detected_signal[int(T_c * f_s)/10*u:int(T_c * f_s)/10*(u+1)]\n",
        "    stft=cp.fft.fft(signal_1)\n",
        "    detected_signal_stft[int(T_c * f_s)/10*u:int(T_c * f_s)/10*(u+1)]=stft\n",
        "  plt.plot(cp.asnumpy(cp.abs(detected_signal_stft)))\n",
        "  plt.title(\"Detected signal \"+str(i+1)+\" STFT \")\n",
        "  plt.show()\n"
      ],
      "metadata": {
        "id": "DUvEeF8V7cPR",
        "colab": {
          "base_uri": "https://localhost:8080/",
          "height": 1000
        },
        "outputId": "89a14675-d7cf-465f-8602-3fc26bafb8da"
      },
      "execution_count": null,
      "outputs": [
        {
          "output_type": "stream",
          "name": "stdout",
          "text": [
            "The SNR :  10.113265548723515\n"
          ]
        },
        {
          "output_type": "stream",
          "name": "stderr",
          "text": [
            "<ipython-input-11-ae052f578217>:14: ComplexWarning: Casting complex values to real discards the imaginary part\n",
            "  transmitted_signal_stft[int(T_c * f_s)/10*u:int(T_c * f_s)/10*(u+1)]=stft\n"
          ]
        },
        {
          "output_type": "display_data",
          "data": {
            "text/plain": [
              "<Figure size 640x480 with 1 Axes>"
            ],
            "image/png": "[encoded data removed]"
          },
          "metadata": {}
        },
        {
          "output_type": "stream",
          "name": "stderr",
          "text": [
            "<ipython-input-11-ae052f578217>:23: ComplexWarning: Casting complex values to real discards the imaginary part\n",
            "  detected_signal_stft[int(T_c * f_s)/10*u:int(T_c * f_s)/10*(u+1)]=stft\n"
          ]
        },
        {
          "output_type": "display_data",
          "data": {
            "text/plain": [
              "<Figure size 640x480 with 1 Axes>"
            ],
            "image/png": "[encoded data removed]"
          },
          "metadata": {}
        },
        {
          "output_type": "display_data",
          "data": {
            "text/plain": [
              "<Figure size 640x480 with 1 Axes>"
            ],
            "image/png": "[encoded data removed]"
          },
          "metadata": {}
        },
        {
          "output_type": "display_data",
          "data": {
            "text/plain": [
              "<Figure size 640x480 with 1 Axes>"
            ],
            "image/png": "[encoded data removed]"
          },
          "metadata": {}
        },
        {
          "output_type": "display_data",
          "data": {
            "text/plain": [
              "<Figure size 640x480 with 1 Axes>"
            ],
            "image/png": "[encoded data removed]"
          },
          "metadata": {}
        },
        {
          "output_type": "display_data",
          "data": {
            "text/plain": [
              "<Figure size 640x480 with 1 Axes>"
            ],
            "image/png": "[encoded data removed]"
          },
          "metadata": {}
        }
      ]
    },
    {
      "cell_type": "markdown",
      "source": [
        "Loading the chirp 13 and 43 datas."
      ],
      "metadata": {
        "id": "uh9ICeWezuiQ"
      }
    },
    {
      "cell_type": "code",
      "source": [
        "from google.colab import drive\n",
        "drive.mount('/content/drive')\n",
        "\n"
      ],
      "metadata": {
        "colab": {
          "base_uri": "https://localhost:8080/"
        },
        "id": "Jb_dtV_VUwYH",
        "outputId": "581919ec-674e-4afd-c6a6-4d99398d8da1"
      },
      "execution_count": null,
      "outputs": [
        {
          "output_type": "stream",
          "name": "stdout",
          "text": [
            "Mounted at /content/drive\n"
          ]
        }
      ]
    },
    {
      "cell_type": "code",
      "source": [
        "import scipy\n",
        "my_data1 = scipy.io.loadmat('/content/drive/MyDrive/my_data1.mat')\n",
        "my_data2 = scipy.io.loadmat('/content/drive/MyDrive/my_data2.mat')\n",
        "my_data1=my_data1['my_data1']/(np.sqrt(np.mean(np.power(np.abs(my_data1['my_data1']),2))))\n",
        "my_data2=my_data2['my_data2']/(np.sqrt(np.mean(np.power(np.abs(my_data2['my_data2']),2))))"
      ],
      "metadata": {
        "id": "ZAVhEGho8fhl"
      },
      "execution_count": null,
      "outputs": []
    },
    {
      "cell_type": "markdown",
      "source": [
        "Processing the chirp 13 without STFT method."
      ],
      "metadata": {
        "id": "oyBwBgw7z4hE"
      }
    },
    {
      "cell_type": "code",
      "source": [
        "minimum_distance=100000\n",
        "detected_l=0\n",
        "detected_m=0\n",
        "for j in range(128):\n",
        "  for k in range(64):\n",
        "    compared_chirp=chirps[j][k]\n",
        "    distance=cp.mean(cp.abs(cp.power(cp.abs(cp.reshape(cp.array(my_data1),(30400))[0:30399]-compared_chirp),2)))\n",
        "    if(distance<minimum_distance):\n",
        "      minimum_distance=distance\n",
        "      detected_l=j\n",
        "      detected_m=k\n",
        "print(\"Chirp number 13\")\n",
        "print(\"Initial frequency : \",-100+200*detected_m/64,\"MHz\")\n",
        "print(\"Bandwidth : \",400+400*detected_l/128,\"MHz\")"
      ],
      "metadata": {
        "colab": {
          "base_uri": "https://localhost:8080/"
        },
        "id": "L4YK1kycJyFD",
        "outputId": "e3cfc556-d86c-48ae-c79d-2dd35f5aab2b"
      },
      "execution_count": null,
      "outputs": [
        {
          "output_type": "stream",
          "name": "stdout",
          "text": [
            "Chirp number 13\n",
            "Initial frequency :  93.75 MHz\n",
            "Bandwidth :  409.375 MHz\n"
          ]
        }
      ]
    },
    {
      "cell_type": "markdown",
      "source": [
        "Processing the chirp 43 without STFT method."
      ],
      "metadata": {
        "id": "hopDtptv0Ajp"
      }
    },
    {
      "cell_type": "code",
      "source": [
        "minimum_distance=100000\n",
        "detected_l=0\n",
        "detected_m=0\n",
        "for j in range(128):\n",
        "  for k in range(64):\n",
        "    compared_chirp=chirps[j][k]\n",
        "    distance=cp.mean(cp.abs(cp.power(cp.abs(cp.reshape(cp.array(my_data2),(30400))[0:30399]-compared_chirp),2)))\n",
        "    if(distance<minimum_distance):\n",
        "      minimum_distance=distance\n",
        "      detected_l=j\n",
        "      detected_m=k\n",
        "print(\"Chirp number 43\")\n",
        "print(\"Initial frequency : \",-100+200*detected_m/64,\"MHz\")\n",
        "print(\"Bandwidth : \",400+400*detected_l/128,\"MHz\")"
      ],
      "metadata": {
        "colab": {
          "base_uri": "https://localhost:8080/"
        },
        "id": "of6gFkItmjqk",
        "outputId": "a96e973a-1daa-4d7e-d59a-33205d7392b2"
      },
      "execution_count": null,
      "outputs": [
        {
          "output_type": "stream",
          "name": "stdout",
          "text": [
            "Chirp number 43\n",
            "Initial frequency :  -50.0 MHz\n",
            "Bandwidth :  659.375 MHz\n"
          ]
        }
      ]
    },
    {
      "cell_type": "markdown",
      "source": [
        "Processing the chirp 13 with STFT method."
      ],
      "metadata": {
        "id": "griJ3QEk0FVb"
      }
    },
    {
      "cell_type": "code",
      "source": [
        "minimum_distance=1000000\n",
        "detected_l=0\n",
        "detected_m=0\n",
        "signal_stft=cp.zeros(int(T_c * f_s))\n",
        "for u in range(10):\n",
        "  my_data1=cp.array(np.reshape(my_data1,(30400)))\n",
        "  signal_1=my_data1[int(30399/10*u):int(30399/10*(u+1))]\n",
        "  stft=cp.fft.fft(signal_1)\n",
        "  signal_stft[int(int(T_c * f_s)/10*u):int(int(T_c * f_s)/10*(u+1))]=stft\n",
        "for j in range(128):\n",
        "  for k in range(64):\n",
        "    compared_chirp_stft=STFT[j][k]\n",
        "    distance=cp.mean(cp.abs(cp.power(cp.abs(signal_stft-compared_chirp_stft),2)))\n",
        "    if(distance<minimum_distance):\n",
        "      minimum_distance=distance\n",
        "      detected_l=j\n",
        "      detected_m=k\n",
        "print(\"Chirp number 13\")\n",
        "print(\"Initial frequency : \",-100+200*detected_m/64,\"MHz\")\n",
        "print(\"Bandwidth : \",400+400*detected_l/128,\"MHz\")"
      ],
      "metadata": {
        "colab": {
          "base_uri": "https://localhost:8080/"
        },
        "id": "hdUQgmIOpNXr",
        "outputId": "50a4a172-1a70-452e-e75e-356207a19b0d"
      },
      "execution_count": null,
      "outputs": [
        {
          "output_type": "stream",
          "name": "stderr",
          "text": [
            "<ipython-input-22-923de865c012>:9: ComplexWarning: Casting complex values to real discards the imaginary part\n",
            "  signal_stft[int(int(T_c * f_s)/10*u):int(int(T_c * f_s)/10*(u+1))]=stft\n"
          ]
        },
        {
          "output_type": "stream",
          "name": "stdout",
          "text": [
            "Chirp number 13\n",
            "Initial frequency :  87.5 MHz\n",
            "Bandwidth :  440.625 MHz\n"
          ]
        }
      ]
    },
    {
      "cell_type": "markdown",
      "source": [
        "Processing the chirp 43 with STFT method."
      ],
      "metadata": {
        "id": "HgA2QSxX0OeT"
      }
    },
    {
      "cell_type": "code",
      "source": [
        "minimum_distance=1000000\n",
        "detected_l=0\n",
        "detected_m=0\n",
        "signal_stft=cp.zeros(int(T_c * f_s))\n",
        "for u in range(10):\n",
        "  my_data2=cp.array(np.reshape(my_data2,(30400)))\n",
        "  signal_2=my_data2[int(30399/10*u):int(30399/10*(u+1))]\n",
        "  stft=cp.fft.fft(signal_2)\n",
        "  signal_stft[int(int(T_c * f_s)/10*u):int(int(T_c * f_s)/10*(u+1))]=stft\n",
        "for j in range(128):\n",
        "  for k in range(64):\n",
        "    compared_chirp_stft=STFT[j][k]\n",
        "    distance=cp.mean(cp.abs(cp.power(cp.abs(signal_stft-compared_chirp_stft),2)))\n",
        "    if(distance<minimum_distance):\n",
        "      minimum_distance=distance\n",
        "      detected_l=j\n",
        "      detected_m=k\n",
        "print(\"Chirp number 43\")\n",
        "print(\"Initial frequency : \",-100+200*detected_m/64,\"MHz\")\n",
        "print(\"Bandwidth : \",400+400*detected_l/128,\"MHz\")"
      ],
      "metadata": {
        "colab": {
          "base_uri": "https://localhost:8080/"
        },
        "id": "nksGXa0Gs7-1",
        "outputId": "15a858bf-fd1d-4ad9-ec5d-6794e8be34dd"
      },
      "execution_count": null,
      "outputs": [
        {
          "output_type": "stream",
          "name": "stderr",
          "text": [
            "<ipython-input-23-281a8eb0804a>:9: ComplexWarning: Casting complex values to real discards the imaginary part\n",
            "  signal_stft[int(int(T_c * f_s)/10*u):int(int(T_c * f_s)/10*(u+1))]=stft\n"
          ]
        },
        {
          "output_type": "stream",
          "name": "stdout",
          "text": [
            "Chirp number 43\n",
            "Initial frequency :  -50.0 MHz\n",
            "Bandwidth :  659.375 MHz\n"
          ]
        }
      ]
    },
    {
      "cell_type": "markdown",
      "source": [
        "----\n",
        "----\n",
        "## DNN estimatior"
      ],
      "metadata": {
        "id": "vsFv3qB2wDFv"
      }
    },
    {
      "cell_type": "code",
      "source": [
        "import torch\n",
        "import torch.nn as nn\n",
        "import numpy as np\n",
        "from torch.utils.data import DataLoader,Dataset\n",
        "from tqdm import tqdm\n",
        "import pandas as pd\n",
        "import matplotlib.pyplot as plt\n",
        "import seaborn as sns\n",
        "import matplotlib.pyplot as plt\n",
        "import torch\n",
        "import torch.nn as nn\n",
        "import numpy as np\n",
        "from tqdm import tqdm\n",
        "from torch.optim import Adam\n",
        "from torchvision.datasets import MNIST\n",
        "from torchvision import transforms\n",
        "from torch.utils.data import DataLoader,Dataset\n",
        "\n",
        "\n",
        "device = torch.device(\"cuda\" if torch.cuda.is_available() else \"cpu\")\n"
      ],
      "metadata": {
        "id": "4fk92kcOwKle"
      },
      "execution_count": 3,
      "outputs": []
    },
    {
      "cell_type": "code",
      "source": [
        "class Chirp_detector(nn.Module):\n",
        "    def __init__(self):\n",
        "        super(Chirp_detector, self).__init__()\n",
        "\n",
        "        self.conv1 = nn.Conv1d(in_channels=1, out_channels=128, kernel_size=8,padding='same')\n",
        "        self.bn1 = nn.BatchNorm1d(128)\n",
        "        self.relu1 = nn.ReLU()\n",
        "\n",
        "        self.conv2 = nn.Conv1d(in_channels=128, out_channels=256, kernel_size=5)\n",
        "        self.bn2 = nn.BatchNorm1d(256)\n",
        "        self.relu2 = nn.ReLU()\n",
        "\n",
        "        self.conv3 = nn.Conv1d(in_channels=256, out_channels=128, kernel_size=3)\n",
        "        self.bn3 = nn.BatchNorm1d(128)\n",
        "        self.relu3 = nn.ReLU()\n",
        "\n",
        "        self.global_avg_pool = nn.AdaptiveAvgPool1d(1)\n",
        "\n",
        "        self.linear = nn.Linear(128, 1)\n",
        "\n",
        "    def forward(self, x):\n",
        "        x = self.conv1(x)\n",
        "        x = self.bn1(x)\n",
        "        x = self.relu1(x)\n",
        "\n",
        "        x = self.conv2(x)\n",
        "        x = self.bn2(x)\n",
        "        x = self.relu2(x)\n",
        "\n",
        "        x = self.conv3(x)\n",
        "        x = self.bn3(x)\n",
        "        x = self.relu3(x)\n",
        "\n",
        "        x = self.global_avg_pool(x)\n",
        "\n",
        "        x = x.view(x.size(0), -1)\n",
        "\n",
        "        x = self.linear(x)\n",
        "\n",
        "        return x\n"
      ],
      "metadata": {
        "id": "PVK49_UbweGV"
      },
      "execution_count": 2,
      "outputs": []
    },
    {
      "cell_type": "code",
      "source": [
        "# Create an instance of the CNN model\n",
        "model = Chirp_detector().to(device=device)\n",
        "\n",
        "# Print the model's architecture\n",
        "print(model)"
      ],
      "metadata": {
        "id": "ciQD4oXJwz6y"
      },
      "execution_count": null,
      "outputs": []
    },
    {
      "cell_type": "markdown",
      "source": [
        "### define `Dataset` :"
      ],
      "metadata": {
        "id": "kg2SU-epx9dR"
      }
    },
    {
      "cell_type": "code",
      "source": [
        "class CocoDataset(Dataset):\n",
        "    def __init__(self, num_objects,dataset):\n",
        "        self.coco_dataset = dataset\n",
        "        self.num_objects = num_objects\n",
        "\n",
        "    def convert_to_one_hot(self,numbers, size):\n",
        "        one_hot_vector = np.zeros(size)\n",
        "        one_hot_vector[numbers] = 1\n",
        "        return torch.from_numpy(one_hot_vector)\n",
        "\n",
        "    def __getitem__(self, index):\n",
        "        \"\"\"\n",
        "        target  >>   a 90d multi-hot vector  [obj1 ,obj2, ... , obj90]\n",
        "        obj1 = 1,  it means there is object 1 in the image.\n",
        "        obj1 = 1,  it means there is not object 1 in the image.\n",
        "        \"\"\"\n",
        "        data,target = self.coco_dataset[index]\n",
        "        objects_list = [target[i]['category_id']-1 for i in range(len(target))]\n",
        "        # print(objects_list)\n",
        "        return data , self.convert_to_one_hot(objects_list,self.num_objects)\n",
        "\n",
        "    def __len__(self):\n",
        "        return len(self.coco_dataset)"
      ],
      "metadata": {
        "id": "XZcS-aJOx-Yz"
      },
      "execution_count": null,
      "outputs": []
    },
    {
      "cell_type": "markdown",
      "source": [
        "### define `DataLoader` :"
      ],
      "metadata": {
        "id": "ORpTtAZOxL6a"
      }
    },
    {
      "cell_type": "code",
      "source": [
        "batch_size = 64\n",
        "# define transformer for data preprocessing\n",
        "transformer = transforms.Compose([transforms.ToTensor(),\n",
        "                        transforms.Normalize((0.1307,), (0.3081,)),\n",
        "                        transforms.Lambda(lambda x: x.view(-1))])\n",
        "\n",
        "train_data_loader = DataLoader(train_dataset, batch_size=b_size, shuffle=True)\n",
        "train_data_loader2 = DataLoader(train_dataset2, batch_size=b_size, shuffle=True)"
      ],
      "metadata": {
        "id": "kh707GudxMoD"
      },
      "execution_count": null,
      "outputs": []
    },
    {
      "cell_type": "code",
      "source": [
        "for (data, targets) in tqdm(train_data_loader):\n",
        "    index = 0\n",
        "    plt.imshow(data[0].numpy().transpose(1, 2, 0))\n",
        "    print(targets[0])\n",
        "    break"
      ],
      "metadata": {
        "id": "GaixFnsXyNPz"
      },
      "execution_count": null,
      "outputs": []
    }
  ],
  "metadata": {
    "accelerator": "GPU",
    "colab": {
      "provenance": [],
      "gpuType": "T4"
    },
    "kernelspec": {
      "display_name": "Python 3",
      "name": "python3"
    },
    "language_info": {
      "name": "python"
    }
  },
  "nbformat": 4,
  "nbformat_minor": 0
}